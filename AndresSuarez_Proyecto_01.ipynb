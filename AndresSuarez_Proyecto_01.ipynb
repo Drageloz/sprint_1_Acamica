{
  "nbformat": 4,
  "nbformat_minor": 0,
  "metadata": {
    "kernelspec": {
      "display_name": "Python 3",
      "language": "python",
      "name": "python3"
    },
    "language_info": {
      "codemirror_mode": {
        "name": "ipython",
        "version": 3
      },
      "file_extension": ".py",
      "mimetype": "text/x-python",
      "name": "python",
      "nbconvert_exporter": "python",
      "pygments_lexer": "ipython3",
      "version": "3.8.5-final"
    },
    "colab": {
      "name": "DS_Proyecto_01.ipynb",
      "provenance": [],
      "collapsed_sections": []
    }
  },
  "cells": [
    {
      "cell_type": "markdown",
      "metadata": {
        "id": "38tA-ErIC4OD"
      },
      "source": [
        "# Proyecto: Análisis de mercado inmobiliario\n",
        "\n",
        "¡Bienvenido/a al primer proyecto de la carrera de Data Science de Acamica! \n",
        "\n",
        "El objetivo de este proyecto es reproducir los pasos que haría un/a Data Scientist cuando se enfrenta a una problemática real. Por eso, consta de tres secciones:\n",
        "* En la Parte 1, te presentamos la problemática sobre la cual vas a trabajar. En esta sección deberás decidir qué datos te ayudarán a trabajar en este problema y dónde puedes conseguirlos.\n",
        "* En la Parte 2 te proveemos de un dataset para abordar la problemática planteada. Deberás realizar un Análisis Exploratorio de Datos sobre este dataset.\n",
        "* En la Parte 3, deberás utilizar herramientas de Machine Learning para predecir la variable de interés.\n",
        "\n",
        "\n",
        "En este proyecto vas a trabajar con un dataset de propiedades en venta publicado en el portal [Properati](www.properati.com.ar).\n",
        "\n",
        "**Importante:** recuerda que un notebook es un informe, por lo que debes ir explicando lo que haces a medida que resuelves las consignas. Es importante que quien que lo lea entienda el flujo de trabajo, qué quisiste hacer. Recuerda, simple y conciso es una combinación ganadora. \n",
        "\n",
        "## Problema\n",
        "\n",
        "Recientemente te has incorporado al equipo de Datos de una gran inmobiliaria. La primera tarea que se te asigna es ayudar a los tasadores/as a valuar las propiedades, ya que es un proceso difícil y, a veces, subjetivo. Para ello, propones crear un modelo de Machine Learning que, dadas ciertas características de la propiedad, prediga su precio de venta.\n",
        "\n",
        "### 1. Pensando como un/a Data Scientist\n",
        "\n",
        "Responde la siguientes pregunta:\n",
        "1. ¿Qué datos crees que te ayudarían a trabajar en el problema?¿Por qué?\n",
        "\n",
        "**Importante**: NO deberás buscar esos datos, solamente justificar qué información crees que te ayudaría a resolver la problemática planteada."
      ]
    },
    {
      "cell_type": "markdown",
      "metadata": {
        "id": "oj6gbm-5C4OF"
      },
      "source": [
        "**COMPLETA EN ESTA CELDA TU RESPUESTA**"
      ]
    },
    {
      "cell_type": "markdown",
      "metadata": {
        "id": "wfyEgpsONzTm"
      },
      "source": [
        "---\n",
        "\n",
        "<br />\n",
        "<br />\n",
        "\n",
        "# RESPONDER SECCIÓN 1 ANTES DE CONTINUAR\n",
        "<br />\n",
        "<br />\n",
        "\n",
        "---"
      ]
    },
    {
      "cell_type": "markdown",
      "metadata": {
        "id": "LvPBQzg5C4OI"
      },
      "source": [
        "### 2. Análisis Exploratorio de Datos\n",
        "\n",
        "En esta sección, debes realizar un Análisis Exploratorio de Datos sobre el dataset de propiedades de Properati. Es importante que respondas las siguientes preguntas durante el análisis:\n",
        "\n",
        "* ¿Qué tamaño tiene el dataset?¿Cuántas instancias y cuántas columnas?\n",
        "* ¿Cuántos valores faltantes hay en cada columna?\n",
        "* ¿Cómo es la distribución de cada variable? Deberás hacer histogramas para las variables numéricas y gráficos de barras para las variables categóricas.\n",
        "* ¿Cómo se relacionan las variables entre sí?¿Qué tipo de gráfico será conveniente para presentar esta información?\n",
        "* ¿Cómo están correlacionadas las variables numéricas?¿Qué tipo de gráfico será conveniente para presentar esta información?¿Cuáles serán los mejores predictores de la variable de interés?\n",
        "\n",
        "Vas a encontrar instrucciones para responder estas preguntas. Es importante aclarar que estas instrucciones corresponden al **mínimo entregable** que esperamos en la consigna.\n",
        "\n",
        "**Comentarios sobre el dataset** \n",
        "1. Nosotros ya hicimos un *curado* sobre el dataset que puedes descargar directamente de la página de Properati. Muchos de los pasos que hicimos para curar el conjunto de datos los veremos durante el Bloque 2 de la carrera.\n",
        "\n",
        "2. Si tienes dudas sobre qué representa alguna de las columnas, puedes consultar [aquí](https://www.properati.com.ar/data/). Notarás que algunas columnas fueron descartadas.\n",
        "\n",
        "3. `Capital Federal` refiere a la Ciudad de Buenos Aires. `Bs.As. G.B.A. Zona Norte`, `Bs.As. G.B.A. Zona Sur` y `Bs.As. G.B.A. Zona Oeste` son regiones que conforman el [Gran Buenos Aires](https://es.wikipedia.org/wiki/Gran_Buenos_Aires), un conjunto de ciudades que rodean a la Ciudad de Buenos Aires.\n",
        "\n"
      ]
    },
    {
      "cell_type": "markdown",
      "metadata": {
        "id": "K2PLfIvLC4OK"
      },
      "source": [
        "0. Importa las librerías necesarias para trabajar en la consigna."
      ]
    },
    {
      "cell_type": "code",
      "metadata": {
        "id": "fCGVacN5C4OM"
      },
      "source": [
        "import matplotlib.pyplot as plt\n",
        "import numpy as np\n",
        "import pandas as pd"
      ],
      "execution_count": 6,
      "outputs": []
    },
    {
      "cell_type": "markdown",
      "metadata": {
        "id": "5gWE6fwUC4OY"
      },
      "source": [
        "1. Carga el dataset usando las funcionalidades de Pandas. Imprimir cuántas filas y columnas tiene, y sus cinco primeras instancias."
      ]
    },
    {
      "cell_type": "code",
      "metadata": {
        "id": "YL2eAd_tC4Oa"
      },
      "source": [
        "data = pd.read_csv(\"DS_Proyecto_01_Datos_Properati.csv\")\n",
        "print(f\"Numero de filas: {data.shape[0]}\")\n",
        "print(f\"Numero de Columnas: {data.shape[1]}\")\n",
        "data.head()"
      ],
      "execution_count": 5,
      "outputs": [
        {
          "output_type": "stream",
          "name": "stdout",
          "text": [
            "Numero de filas: 146660\nNumero de Columnas: 19\n"
          ]
        },
        {
          "output_type": "execute_result",
          "data": {
            "text/plain": [
              "   start_date    end_date  created_on        lat        lon         l1  \\\n",
              "0  2019-10-17  2019-12-23  2019-10-17 -34.605880 -58.384949  Argentina   \n",
              "1  2019-10-17  2019-11-21  2019-10-17 -34.624056 -58.412110  Argentina   \n",
              "2  2019-10-17  2019-11-01  2019-10-17 -34.593569 -58.427474  Argentina   \n",
              "3  2019-10-17  2019-12-23  2019-10-17 -34.581294 -58.436754  Argentina   \n",
              "4  2019-10-17  2020-03-11  2019-10-17 -34.914194 -57.938219  Argentina   \n",
              "\n",
              "                       l2             l3  rooms  bedrooms  bathrooms  \\\n",
              "0         Capital Federal  San Cristobal    7.0       7.0        2.0   \n",
              "1         Capital Federal          Boedo    2.0       1.0        2.0   \n",
              "2         Capital Federal        Palermo    2.0       1.0        1.0   \n",
              "3         Capital Federal        Palermo    2.0       1.0        1.0   \n",
              "4  Bs.As. G.B.A. Zona Sur       La Plata    2.0       1.0        1.0   \n",
              "\n",
              "   surface_total  surface_covered     price currency  \\\n",
              "0          140.0            140.0  153000.0      USD   \n",
              "1           70.0             58.0  159000.0      USD   \n",
              "2           45.0             45.0  125000.0      USD   \n",
              "3           85.0             50.0  295000.0      USD   \n",
              "4           50.0             35.0   40000.0      USD   \n",
              "\n",
              "                                               title  \\\n",
              "0        ***Venta semipiso centro, ideal hostel*****   \n",
              "1   Espectacular PH reciclado en Boedo sin expensas.   \n",
              "2  Depto.tipo casa de 2 ambientes en Venta en Pal...   \n",
              "3  COSTA RICA 5800 / PALERMO HOLLYWOOD / VENTA PH...   \n",
              "4  58 entre 1 y 2  Venta de departamento en ph.1 ...   \n",
              "\n",
              "                                         description property_type  \\\n",
              "0  DESCRIPCION DE LA PROPIEDAD: Departamento de 1...  Departamento   \n",
              "1   PH reciclado en Boedo a una cuadra de la plaz...            PH   \n",
              "2  2 ambienets amplio , excelente estado , patio ...            PH   \n",
              "3  HERMOSO PH EN PALERMO!!!2 AMBIENTES TOTALMENTE...            PH   \n",
              "4  58 entre 1 y 2  Venta de departamento en PH. P...            PH   \n",
              "\n",
              "  operation_type  \n",
              "0          Venta  \n",
              "1          Venta  \n",
              "2          Venta  \n",
              "3          Venta  \n",
              "4          Venta  "
            ],
            "text/html": "<div>\n<style scoped>\n    .dataframe tbody tr th:only-of-type {\n        vertical-align: middle;\n    }\n\n    .dataframe tbody tr th {\n        vertical-align: top;\n    }\n\n    .dataframe thead th {\n        text-align: right;\n    }\n</style>\n<table border=\"1\" class=\"dataframe\">\n  <thead>\n    <tr style=\"text-align: right;\">\n      <th></th>\n      <th>start_date</th>\n      <th>end_date</th>\n      <th>created_on</th>\n      <th>lat</th>\n      <th>lon</th>\n      <th>l1</th>\n      <th>l2</th>\n      <th>l3</th>\n      <th>rooms</th>\n      <th>bedrooms</th>\n      <th>bathrooms</th>\n      <th>surface_total</th>\n      <th>surface_covered</th>\n      <th>price</th>\n      <th>currency</th>\n      <th>title</th>\n      <th>description</th>\n      <th>property_type</th>\n      <th>operation_type</th>\n    </tr>\n  </thead>\n  <tbody>\n    <tr>\n      <th>0</th>\n      <td>2019-10-17</td>\n      <td>2019-12-23</td>\n      <td>2019-10-17</td>\n      <td>-34.605880</td>\n      <td>-58.384949</td>\n      <td>Argentina</td>\n      <td>Capital Federal</td>\n      <td>San Cristobal</td>\n      <td>7.0</td>\n      <td>7.0</td>\n      <td>2.0</td>\n      <td>140.0</td>\n      <td>140.0</td>\n      <td>153000.0</td>\n      <td>USD</td>\n      <td>***Venta semipiso centro, ideal hostel*****</td>\n      <td>DESCRIPCION DE LA PROPIEDAD: Departamento de 1...</td>\n      <td>Departamento</td>\n      <td>Venta</td>\n    </tr>\n    <tr>\n      <th>1</th>\n      <td>2019-10-17</td>\n      <td>2019-11-21</td>\n      <td>2019-10-17</td>\n      <td>-34.624056</td>\n      <td>-58.412110</td>\n      <td>Argentina</td>\n      <td>Capital Federal</td>\n      <td>Boedo</td>\n      <td>2.0</td>\n      <td>1.0</td>\n      <td>2.0</td>\n      <td>70.0</td>\n      <td>58.0</td>\n      <td>159000.0</td>\n      <td>USD</td>\n      <td>Espectacular PH reciclado en Boedo sin expensas.</td>\n      <td>PH reciclado en Boedo a una cuadra de la plaz...</td>\n      <td>PH</td>\n      <td>Venta</td>\n    </tr>\n    <tr>\n      <th>2</th>\n      <td>2019-10-17</td>\n      <td>2019-11-01</td>\n      <td>2019-10-17</td>\n      <td>-34.593569</td>\n      <td>-58.427474</td>\n      <td>Argentina</td>\n      <td>Capital Federal</td>\n      <td>Palermo</td>\n      <td>2.0</td>\n      <td>1.0</td>\n      <td>1.0</td>\n      <td>45.0</td>\n      <td>45.0</td>\n      <td>125000.0</td>\n      <td>USD</td>\n      <td>Depto.tipo casa de 2 ambientes en Venta en Pal...</td>\n      <td>2 ambienets amplio , excelente estado , patio ...</td>\n      <td>PH</td>\n      <td>Venta</td>\n    </tr>\n    <tr>\n      <th>3</th>\n      <td>2019-10-17</td>\n      <td>2019-12-23</td>\n      <td>2019-10-17</td>\n      <td>-34.581294</td>\n      <td>-58.436754</td>\n      <td>Argentina</td>\n      <td>Capital Federal</td>\n      <td>Palermo</td>\n      <td>2.0</td>\n      <td>1.0</td>\n      <td>1.0</td>\n      <td>85.0</td>\n      <td>50.0</td>\n      <td>295000.0</td>\n      <td>USD</td>\n      <td>COSTA RICA 5800 / PALERMO HOLLYWOOD / VENTA PH...</td>\n      <td>HERMOSO PH EN PALERMO!!!2 AMBIENTES TOTALMENTE...</td>\n      <td>PH</td>\n      <td>Venta</td>\n    </tr>\n    <tr>\n      <th>4</th>\n      <td>2019-10-17</td>\n      <td>2020-03-11</td>\n      <td>2019-10-17</td>\n      <td>-34.914194</td>\n      <td>-57.938219</td>\n      <td>Argentina</td>\n      <td>Bs.As. G.B.A. Zona Sur</td>\n      <td>La Plata</td>\n      <td>2.0</td>\n      <td>1.0</td>\n      <td>1.0</td>\n      <td>50.0</td>\n      <td>35.0</td>\n      <td>40000.0</td>\n      <td>USD</td>\n      <td>58 entre 1 y 2  Venta de departamento en ph.1 ...</td>\n      <td>58 entre 1 y 2  Venta de departamento en PH. P...</td>\n      <td>PH</td>\n      <td>Venta</td>\n    </tr>\n  </tbody>\n</table>\n</div>"
          },
          "metadata": {},
          "execution_count": 5
        }
      ]
    },
    {
      "cell_type": "markdown",
      "metadata": {
        "id": "BJ-XiUsvC4Oh"
      },
      "source": [
        "2. **Valores Faltantes**: imprime en pantalla los nombres de las columnas y cuántos valores faltantes hay por columna."
      ]
    },
    {
      "cell_type": "code",
      "metadata": {
        "id": "1QletBbgC4Oi"
      },
      "source": [
        "data.info()"
      ],
      "execution_count": 8,
      "outputs": [
        {
          "output_type": "stream",
          "name": "stdout",
          "text": [
            "<class 'pandas.core.frame.DataFrame'>\nRangeIndex: 146660 entries, 0 to 146659\nData columns (total 19 columns):\n #   Column           Non-Null Count   Dtype  \n---  ------           --------------   -----  \n 0   start_date       146660 non-null  object \n 1   end_date         146660 non-null  object \n 2   created_on       146660 non-null  object \n 3   lat              136735 non-null  float64\n 4   lon              136701 non-null  float64\n 5   l1               146660 non-null  object \n 6   l2               146660 non-null  object \n 7   l3               146660 non-null  object \n 8   rooms            146660 non-null  float64\n 9   bedrooms         146660 non-null  float64\n 10  bathrooms        140703 non-null  float64\n 11  surface_total    126133 non-null  float64\n 12  surface_covered  125046 non-null  float64\n 13  price            146660 non-null  float64\n 14  currency         146660 non-null  object \n 15  title            146660 non-null  object \n 16  description      146660 non-null  object \n 17  property_type    146660 non-null  object \n 18  operation_type   146660 non-null  object \ndtypes: float64(8), object(11)\nmemory usage: 15.1+ MB\n"
          ]
        }
      ]
    },
    {
      "cell_type": "markdown",
      "metadata": {
        "id": "fzDXC875C4Oo"
      },
      "source": [
        "3. **Tipos de propiedad**: ¿Cuántos tipos de propiedad hay publicados según este dataset?¿Cuántos instancias por cada tipo de propiedad hay en el dataset? Responde esta pregunta usando las funcionalidad de Pandas y con un gráfico apropiado de Seaborn. **Pistas**: Te puede ser útil googlear cómo rotar las etiquetas del eje x."
      ]
    },
    {
      "cell_type": "code",
      "metadata": {
        "id": "KvVxaqPlC4Oq"
      },
      "source": [
        "# COMPLETAR - AGREGAR TANTAS CELDAS COMO SEA NECESARIO"
      ],
      "execution_count": null,
      "outputs": []
    },
    {
      "cell_type": "markdown",
      "metadata": {
        "id": "zmHRGis7C4Ow"
      },
      "source": [
        "4. ¿De qué regiones son las publicaciones? Haz gráficos de barras para las variables `l2` y `l3`. Si te animas, puedes hacer los dos gráficos usando `subplot` de Matplotlib. Dale un tamaño apropiado a la figura para que ambos gráficos se visualicen correctamente."
      ]
    },
    {
      "cell_type": "code",
      "metadata": {
        "id": "JvrB-EaoC4Ox"
      },
      "source": [
        "# COMPLETAR - AGREGAR TANTAS CELDAS COMO SEA NECESARIO"
      ],
      "execution_count": null,
      "outputs": []
    },
    {
      "cell_type": "markdown",
      "metadata": {
        "id": "XJCDt8ctC4O3"
      },
      "source": [
        "5. **Filtrando el Dataset:** A partir de los resultados del punto 3. y 4., selecciona las tres clases más abundantes de tipos de propiedad y la región con más propiedades publicadas. Crea un nuevo Data Frame con aquellas instancias que cumplen con esas condiciones e imprime su `shape`."
      ]
    },
    {
      "cell_type": "code",
      "metadata": {
        "id": "vbmACahUC4O6"
      },
      "source": [
        "# COMPLETAR - AGREGAR TANTAS CELDAS COMO SEA NECESARIO"
      ],
      "execution_count": null,
      "outputs": []
    },
    {
      "cell_type": "markdown",
      "metadata": {
        "id": "bXSMm-aOC4O-"
      },
      "source": [
        "**Checkpoint:** deberías tener un dataset con 91485 instacias, 19 columnas.\n",
        "\n",
        "6. **Distribuciones y relaciones de a pares:** Estudia la distribución y las relaciones de a pares de las variables `rooms`, `bedrooms`, `bathrooms`, `surface_total`, `surface_covered`, `price` para cada tipo de propiedad. Para ello, ten en cuenta:\n",
        "    1. Obtiene estadísticos que te sirvan para tener una primera idea de los valores que abarcan estas variables. ¿Cuáles crees que toman valores que tal vez no tengan mucho sentido?\n",
        "    1. Algunas instancias tienen valores de superficie (`surface_total`) muy grandes y dificultan la correcta visualización. Estudia la distribución de esa variable y filtra por un valor razonable que te permita obtener gráficos comprensibles. Puede ser útil un boxplot para determinar un rango razonable.\n",
        "    1. Lo mismo ocurre con valores de superficie total muy chico.\n",
        "    1. Las propiedades no pueden tener `surface_covered` mayor a `surface_total`. Si eso sucede, debes filtrar esas instancias.\n",
        "    1. El rango de precios que toman las propiedades es muy amplio. Estudia la distribución de esa variable y filtra por un valor razonable que te permita obtener gráficos comprensibles. Puede ser útil un boxplot para determinar un rango razonable.\n",
        "    1. Una vez filtrado el dataset, puedes utilizar la función `pairplot` de Seaborn."
      ]
    },
    {
      "cell_type": "code",
      "metadata": {
        "id": "jDQy8tzfC4PA"
      },
      "source": [
        "# COMPLETAR - AGREGAR TANTAS CELDAS COMO SEA NECESARIO"
      ],
      "execution_count": null,
      "outputs": []
    },
    {
      "cell_type": "markdown",
      "metadata": {
        "id": "B2EMvGFoC4PF"
      },
      "source": [
        "7. **Correlaciones:** Estudia la correlación entre las variables `rooms`, `bedrooms`, `bathrooms`, `surface_total`, `surface_covered`, `price`. ¿Cuáles son las mejores variables para predecir el precio?¿Qué diferencias encuentras según cada tipo de propiedad?"
      ]
    },
    {
      "cell_type": "code",
      "metadata": {
        "id": "4DJ-aGD-C4PG"
      },
      "source": [
        "# COMPLETAR - AGREGAR TANTAS CELDAS COMO SEA NECESARIO"
      ],
      "execution_count": null,
      "outputs": []
    },
    {
      "cell_type": "markdown",
      "metadata": {
        "id": "AUBaOrNYC4PK"
      },
      "source": [
        "### 2.1 Desafío\n",
        "\n",
        "En el dataset provisto hay mucha información, más allá del problema planteado. Propone una pregunta que pueda ser respondida por el dataset e intenta responderla.¿Cuáles son los sesgos de la respuesta obtenida?(¿Cuán generalizable es la respuesta obtenida?)¿Necesitas información complementaria?¿Cómo la obtendrías?\n",
        "\n",
        "Por ejemplo: ¿Cuál es el barrio más caro de Buenos Aires? Probablemente puedas responder esta pregunta con este dataset. Pero podria ocurrir que la respuesta esté sesgada. ¿Cómo? Tal vez las propiedades más caras no se publican de forma online, sino que utilizan otro canal de venta.\n"
      ]
    },
    {
      "cell_type": "code",
      "metadata": {
        "id": "CJ_DINqMC4PM"
      },
      "source": [
        "# COMPLETAR - AGREGAR TANTAS CELDAS COMO SEA NECESARIO"
      ],
      "execution_count": null,
      "outputs": []
    },
    {
      "cell_type": "markdown",
      "metadata": {
        "id": "ULhoMAo_C4PP"
      },
      "source": [
        "### 3. Machine Learning\n",
        "\n",
        "En esta sección, debes entrenar dos modelos de Machine Learning - uno de vecinos más cercanos y otro de árboles de decisión -  para predecir el precio de las propiedades tipo `Departamento`, `PH` y `Casa`  en la Ciudad Autónoma de Buenos Aires (`Capital Federal`). Para ello, no debes olvidarte de:\n",
        "\n",
        "* Elegir una métrica apropiada para evaluar los resultados de los modelos.\n",
        "* Seleccionar las variables predictoras (`X`) y la variable a predecir (`y`). \n",
        "* Realizar un Train/Test split de los datos.\n",
        "* Generar un modelo *benchmark* y evaluarlo.\n",
        "* Entrenar un modelo de vecinos más cercanos y un modelo de árbol de decisión con hiperparámetros iniciales de su elección.\n",
        "* Evaluar los modelos obtenidos. Para ello, evalúa la métrica elegida en el conjunto de Test y en el conjunto de Train. También, realiza gráficos de valores reales vs. valores predichos.\n",
        "* Mejorar el desempeño de sus modelos optimizando el número de vecinos y la profundidad del árbol, respectivamente.\n",
        "* Entre los modelos entrenados, ¿cuál elegirías para utilizar?¿Por qué? \n",
        "* Ser **crítico/a** con la metodología utilizada. Por ejemplo, responde las siguientes preguntas: ¿Qué información no estás usando que podría ayudar al modelo?¿Qué información puede estar demás o repetida?\n",
        "\n",
        "Estos lineamientos corresponden al **mínimo entregable** de esta sección.\n",
        "\n",
        "\n",
        "**Importante:** para asegurarnos que trabajes con un dataset apropiados, debes volver a cargar los datos y realizar el siguiente filtrado:\n",
        "\n",
        "1. Selecciona aquellas propiedades en Capital Federal y cuyo tipo de propiedad es Departamento, PH o Casa.\n",
        "1. Selecciona aquellas propiedades cuya superficie total es menor a 1000 m2 y mayor a 15 m2.\n",
        "1. Selecciona aquellas propiedades cuya precio es menor 4000000 dólares.\n",
        "1. Selecciona las columnas `rooms`, `bedrooms`, `bathrooms`, `surface_total`, `surface_covered` y `price`.\n",
        "1. Descarta aquellas instacias con valores faltantes.\n",
        "\n",
        "**Checkpoint:** deberías obtener un dataset con 81019 instacias y 6 columnas."
      ]
    },
    {
      "cell_type": "code",
      "metadata": {
        "id": "QSqa1vJQC4PR"
      },
      "source": [
        "# COMPLETAR - AGREGAR TANTAS CELDAS COMO SEA NECESARIO"
      ],
      "execution_count": null,
      "outputs": []
    }
  ]
}